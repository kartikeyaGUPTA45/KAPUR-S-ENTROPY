{
  "nbformat": 4,
  "nbformat_minor": 0,
  "metadata": {
    "colab": {
      "name": "KAPUR_ENTROPY_FOR_TWO THRESHOLD_VALUES",
      "provenance": [],
      "toc_visible": true,
      "authorship_tag": "ABX9TyPpVH8GDkpLpgXUYRnlhDMH",
      "include_colab_link": true
    },
    "kernelspec": {
      "name": "python3",
      "display_name": "Python 3"
    },
    "accelerator": "TPU"
  },
  "cells": [
    {
      "cell_type": "markdown",
      "metadata": {
        "id": "view-in-github",
        "colab_type": "text"
      },
      "source": [
        "<a href=\"https://colab.research.google.com/github/kartikeyaGUPTA45/KAPUR-S-ENTROPY/blob/master/KAPUR_ENTROPY_FOR_TWO_THRESHOLD_VALUES.ipynb\" target=\"_parent\"><img src=\"https://colab.research.google.com/assets/colab-badge.svg\" alt=\"Open In Colab\"/></a>"
      ]
    },
    {
      "cell_type": "markdown",
      "metadata": {
        "id": "mue2-Tj-EY5V",
        "colab_type": "text"
      },
      "source": [
        "# KAPUR'S ENTROPY FOR FOUR THRESHOLD VALUES"
      ]
    },
    {
      "cell_type": "markdown",
      "metadata": {
        "id": "TszJvkxxEjKP",
        "colab_type": "text"
      },
      "source": [
        "# IMPORTING THE LIBRARIES"
      ]
    },
    {
      "cell_type": "code",
      "metadata": {
        "id": "LKKWV50n9Hax",
        "colab_type": "code",
        "colab": {}
      },
      "source": [
        "import math\n",
        "import numpy as np\n",
        "from matplotlib import pyplot as plt\n",
        "from PIL import Image"
      ],
      "execution_count": 0,
      "outputs": []
    },
    {
      "cell_type": "markdown",
      "metadata": {
        "id": "H6VeSFetEqfG",
        "colab_type": "text"
      },
      "source": [
        "# READ AN IMAGE AND CONVERT IT INTO GREYSCALE"
      ]
    },
    {
      "cell_type": "code",
      "metadata": {
        "id": "dZ7O5Azj9M_G",
        "colab_type": "code",
        "outputId": "54436d0a-4aec-4fc3-da8a-340715d7dfc9",
        "colab": {
          "base_uri": "https://localhost:8080/",
          "height": 34
        }
      },
      "source": [
        "image = Image.open('lena.tiff').convert(\"L\")\n",
        "print(image)"
      ],
      "execution_count": 2,
      "outputs": [
        {
          "output_type": "stream",
          "text": [
            "<PIL.Image.Image image mode=L size=512x512 at 0x7F8B1073EBA8>\n"
          ],
          "name": "stdout"
        }
      ]
    },
    {
      "cell_type": "markdown",
      "metadata": {
        "id": "1xT_gdbpEx_2",
        "colab_type": "text"
      },
      "source": [
        "# DEFINE THE THRESHOLD VALUES"
      ]
    },
    {
      "cell_type": "code",
      "metadata": {
        "id": "bviL6Fqy9lju",
        "colab_type": "code",
        "colab": {}
      },
      "source": [
        "thresholds=[97,164]\n",
        "thresholds.append(255)\n",
        "thresholds.insert(0,0)"
      ],
      "execution_count": 0,
      "outputs": []
    },
    {
      "cell_type": "markdown",
      "metadata": {
        "id": "U7b9TdhrE5pn",
        "colab_type": "text"
      },
      "source": [
        "# CONVERT IMAGE INTO ARRAY"
      ]
    },
    {
      "cell_type": "code",
      "metadata": {
        "id": "IMUmrLeK9ojh",
        "colab_type": "code",
        "outputId": "95e12643-6690-4158-f1c6-56ff37fe1b16",
        "colab": {
          "base_uri": "https://localhost:8080/",
          "height": 134
        }
      },
      "source": [
        "img = np.asarray(image)#Convert given input into array\n",
        "print(img)"
      ],
      "execution_count": 4,
      "outputs": [
        {
          "output_type": "stream",
          "text": [
            "[[162 162 162 ... 170 155 128]\n",
            " [162 162 162 ... 170 155 128]\n",
            " [162 162 162 ... 170 155 128]\n",
            " ...\n",
            " [ 43  43  50 ... 104 100  98]\n",
            " [ 44  44  55 ... 104 105 108]\n",
            " [ 44  44  55 ... 104 105 108]]\n"
          ],
          "name": "stdout"
        }
      ]
    },
    {
      "cell_type": "markdown",
      "metadata": {
        "id": "C3jZUPGrFHKk",
        "colab_type": "text"
      },
      "source": [
        "# MAKING HISTOGRAM"
      ]
    },
    {
      "cell_type": "code",
      "metadata": {
        "id": "j1uy_nBe9s4d",
        "colab_type": "code",
        "colab": {}
      },
      "source": [
        "def Hist(img):\n",
        "    row, col = img.shape \n",
        "    y = np.zeros(256,dtype=float)\n",
        "    for i in range(0,row):\n",
        "        for j in range(0,col):\n",
        "             y[img[i,j]] += 1\n",
        "    x = np.arange(0,256)\n",
        "    plt.bar(x, y, color='b', width=5, align='edge', alpha=0.25)\n",
        "    plt.show()\n",
        "    return y"
      ],
      "execution_count": 0,
      "outputs": []
    },
    {
      "cell_type": "code",
      "metadata": {
        "id": "3R0OT_aV9vUR",
        "colab_type": "code",
        "outputId": "308eb328-590a-4799-b013-28bd601f78a7",
        "colab": {
          "base_uri": "https://localhost:8080/",
          "height": 265
        }
      },
      "source": [
        "h=Hist(img)"
      ],
      "execution_count": 6,
      "outputs": [
        {
          "output_type": "display_data",
          "data": {
            "image/png": "[encoded data removed]",
            "text/plain": [
              "<Figure size 432x288 with 1 Axes>"
            ]
          },
          "metadata": {
            "tags": [],
            "needs_background": "light"
          }
        }
      ]
    },
    {
      "cell_type": "markdown",
      "metadata": {
        "id": "Q7T2zfUiFK7j",
        "colab_type": "text"
      },
      "source": [
        "# COUNTING THE PIXELS"
      ]
    },
    {
      "cell_type": "code",
      "metadata": {
        "id": "DR74bHUB9yy_",
        "colab_type": "code",
        "outputId": "edecf1c3-440b-47a3-d1a0-b487a3a025f2",
        "colab": {
          "base_uri": "https://localhost:8080/",
          "height": 34
        }
      },
      "source": [
        "cnt = 0\n",
        "for i in range(0, len(h)):\n",
        "    if h[i]>0:\n",
        "           cnt += h[i]\n",
        "            \n",
        "print(cnt)"
      ],
      "execution_count": 7,
      "outputs": [
        {
          "output_type": "stream",
          "text": [
            "262144.0\n"
          ],
          "name": "stdout"
        }
      ]
    },
    {
      "cell_type": "markdown",
      "metadata": {
        "id": "OVKzbTU2FTQz",
        "colab_type": "text"
      },
      "source": [
        "# FINDING PROBABILITIES OF AN INDIVIDUAL PIXELS"
      ]
    },
    {
      "cell_type": "code",
      "metadata": {
        "id": "q0kzoWbJ93Lb",
        "colab_type": "code",
        "colab": {}
      },
      "source": [
        "prob=[]\n",
        "for i in range (len(h)):\n",
        "    h[i]=h[i]/cnt\n",
        "    prob.append(h[i])"
      ],
      "execution_count": 0,
      "outputs": []
    },
    {
      "cell_type": "markdown",
      "metadata": {
        "id": "jyGeFO9dFeDI",
        "colab_type": "text"
      },
      "source": [
        "# KAPUR'S ENTROPY CALCULATION"
      ]
    },
    {
      "cell_type": "code",
      "metadata": {
        "id": "WgLyOqQ9Cclh",
        "colab_type": "code",
        "colab": {}
      },
      "source": [
        "w0=prob[:]"
      ],
      "execution_count": 0,
      "outputs": []
    },
    {
      "cell_type": "code",
      "metadata": {
        "id": "LKWU0t3g_ieo",
        "colab_type": "code",
        "outputId": "b0f1b7cf-6d1e-4779-f5db-54558520de42",
        "colab": {
          "base_uri": "https://localhost:8080/",
          "height": 34
        }
      },
      "source": [
        "SUM=[]\n",
        "for i in range(len(thresholds)-1):\n",
        "    SUM.append(sum(h[thresholds[i]:thresholds[i+1]]))\n",
        "    \n",
        "print(SUM)"
      ],
      "execution_count": 10,
      "outputs": [
        {
          "output_type": "stream",
          "text": [
            "[0.2873077392578125, 0.5110206604003906, 0.20167160034179688]\n"
          ],
          "name": "stdout"
        }
      ]
    },
    {
      "cell_type": "code",
      "metadata": {
        "id": "Drv93OEd_oLz",
        "colab_type": "code",
        "outputId": "ab461cc0-28c5-4126-8a76-f5c0346ee668",
        "colab": {
          "base_uri": "https://localhost:8080/",
          "height": 50
        }
      },
      "source": [
        "print(w0[164])\n",
        "print(w0[97])\n"
      ],
      "execution_count": 11,
      "outputs": [
        {
          "output_type": "stream",
          "text": [
            "0.005619049072265625\n",
            "0.006893157958984375\n"
          ],
          "name": "stdout"
        }
      ]
    },
    {
      "cell_type": "code",
      "metadata": {
        "id": "58AC_JCf_qxt",
        "colab_type": "code",
        "colab": {}
      },
      "source": [
        "\n",
        "for i in range(0,w0.index(0.006893157958984375)):\n",
        "    w0[i]=w0[i]/SUM[0]\n",
        "for i in range(w0.index(0.006893157958984375),w0.index(0.005619049072265625)):\n",
        "    w0[i]=w0[i]/SUM[1]\n",
        "\n",
        "for i in range(w0.index(0.005619049072265625),256):\n",
        "    w0[i]=w0[i]/SUM[2]"
      ],
      "execution_count": 0,
      "outputs": []
    },
    {
      "cell_type": "code",
      "metadata": {
        "id": "ZxihtmA0_zsS",
        "colab_type": "code",
        "outputId": "22dc7cad-6f2e-4593-9b07-659292fa3e02",
        "colab": {
          "base_uri": "https://localhost:8080/",
          "height": 54
        }
      },
      "source": [
        "print(w0)"
      ],
      "execution_count": 13,
      "outputs": [
        {
          "output_type": "stream",
          "text": [
            "[0.0, 0.0, 0.0, 0.0, 0.0, 0.0, 0.0, 0.0, 0.0, 0.0, 0.0, 0.0, 0.0, 0.0, 0.0, 0.0, 0.0, 0.0, 0.0, 0.0, 0.0, 0.0, 0.0, 0.0, 0.0, 1.3277391258165596e-05, 9.294173880715917e-05, 0.0002522704339051463, 0.00038504434648680227, 0.0007833660842317702, 0.0012879069520420627, 0.0018190026023686865, 0.002416485208986138, 0.0029343034680545965, 0.0039699399861915135, 0.0056030591109458815, 0.0066254182378246325, 0.008152318232513675, 0.010064262573689522, 0.012533857347708323, 0.014074034733655531, 0.016663126028997822, 0.019132720803016624, 0.0218811407934569, 0.023368208614371448, 0.025014605130383984, 0.02652822773381486, 0.027749747729566093, 0.026860162515269, 0.027895799033405916, 0.027723192947049762, 0.026953104254076158, 0.026262679908651547, 0.024005523394763396, 0.02296988687662648, 0.022146688618620212, 0.020938446014127143, 0.01950448775824526, 0.01696850602793563, 0.016410855595092675, 0.016198417334962027, 0.013317223431940093, 0.012347973870094004, 0.012945456476711456, 0.011684104307185724, 0.011856710393541877, 0.010475861702692655, 0.010595358224016145, 0.010210313877529343, 0.010382919963885497, 0.011285782569440756, 0.010900738222953954, 0.01103351213553561, 0.010422752137659993, 0.01172393648096022, 0.01202931647989803, 0.011511498220829572, 0.011338892134473418, 0.01257368952148282, 0.012918901694195125, 0.01202931647989803, 0.012108980827447022, 0.011511498220829572, 0.012401083435126666, 0.0123878060438685, 0.012879069520420628, 0.013343778214456424, 0.013529661692070741, 0.014074034733655531, 0.01504328429550162, 0.014937065165436294, 0.015746986032184395, 0.016185139943703863, 0.01757926602581125, 0.018588347761431832, 0.020420627755058686, 0.0214960964469701, 0.013489000530005001, 0.013966751517232628, 0.015564231380775001, 0.014145908137442988, 0.014444502504460253, 0.014616194265495182, 0.013668157150215361, 0.013145617007935146, 0.012906741514321333, 0.012048282709146691, 0.01122714819984921, 0.010727002635095288, 0.010174603056113346, 0.010167138196937915, 0.01005516530930644, 0.010040235590955576, 0.010809116086025037, 0.010167138196937915, 0.010092489605183599, 0.010361224535499139, 0.0108240458043759, 0.011652645172848815, 0.011757153201304858, 0.011973634117392376, 0.013294914191443779, 0.013533789685057591, 0.014130978419092124, 0.015205918140354283, 0.015952404057897447, 0.017199035540194533, 0.01731100842782601, 0.01771411082329932, 0.01880398026291234, 0.017206500399369967, 0.01718410582184367, 0.01681086286307209, 0.015497047648196116, 0.014892394054986153, 0.01357111398093475, 0.014444502504460253, 0.01420562701084644, 0.015116339830249102, 0.015974798635423743, 0.016855652018124678, 0.017206500399369967, 0.017348332723703168, 0.018326229275684714, 0.01834862385321101, 0.01798284575361486, 0.01667649539791432, 0.017281148991124283, 0.01707959779338763, 0.01628832272079187, 0.016982554624107016, 0.017281148991124283, 0.01784847828845709, 0.01939370413777144, 0.020043146886033994, 0.0204686438590336, 0.020162584632840902, 0.019080180052403313, 0.01799031061279029, 0.016878046595650974, 0.01523577757705601, 0.013832384052074858, 0.013294914191443779, 0.01204081784997126, 0.027862371611780505, 0.02695443282198725, 0.02559252463729737, 0.02332267766281423, 0.02371990088334878, 0.02260389278756124, 0.02214992339266461, 0.02284979287646358, 0.025422286114211132, 0.02392797018934307, 0.023265931488452154, 0.02190402330376227, 0.02241473887302098, 0.023209185314090074, 0.02054211511907239, 0.017818298749692624, 0.017099513874439632, 0.015548451775209488, 0.014829666899956495, 0.013032704711824012, 0.011538388786955947, 0.011878865833128416, 0.012181512096392835, 0.01284355079728375, 0.0120112735733066, 0.012521989142565306, 0.013978474284525318, 0.015075566988858834, 0.015661944123933645, 0.0177993833582386, 0.01711842926589366, 0.018499252842037565, 0.017383244746250023, 0.01721300622316379, 0.015945674995744036, 0.01558628255811754, 0.016399644390640664, 0.01706168309153158, 0.015775436472657802, 0.01675903682826716, 0.017194090831709762, 0.01834792971040536, 0.018461422059129512, 0.02014489189853784, 0.019728753286549265, 0.02020163807289992, 0.01808311423004899, 0.01857491440785367, 0.018064198838594964, 0.016342898216278587, 0.01318402784345622, 0.01028997295099022, 0.009287457203926834, 0.007433748841432273, 0.007206764143983959, 0.005371971172943424, 0.004350540034426012, 0.004426201600242117, 0.0036885013335350974, 0.0035560935933569146, 0.0023644239317532675, 0.001456485141960013, 0.0013997389675979345, 0.0011160080957875423, 0.0009646849641553332, 0.0004161386119885751, 0.00035939243762649666, 0.00017023852308623526, 0.00013240774017818298, 0.00011349234872415684, 0.00015132313163220912, 1.891539145402614e-05, 0.0, 0.0, 1.891539145402614e-05, 0.0, 0.0, 0.0, 3.783078290805228e-05, 0.0, 1.891539145402614e-05, 1.891539145402614e-05, 0.0, 0.0, 0.0, 0.0, 0.0, 0.0, 0.0, 0.0, 0.0, 0.0]\n"
          ],
          "name": "stdout"
        }
      ]
    },
    {
      "cell_type": "code",
      "metadata": {
        "id": "Oty5opVfAZGi",
        "colab_type": "code",
        "colab": {}
      },
      "source": [
        "w1=prob[:]"
      ],
      "execution_count": 0,
      "outputs": []
    },
    {
      "cell_type": "code",
      "metadata": {
        "id": "9NDOGDttAcl4",
        "colab_type": "code",
        "colab": {}
      },
      "source": [
        "for i in range(0,w1.index(0.006893157958984375)):\n",
        "    if w1[i]==0:\n",
        "        w1[i]=w1[i]\n",
        "    else:\n",
        "        w1[i]=math.log(w1[i]/SUM[0])\n",
        "for i in range(w1.index(0.006893157958984375),w1.index(0.005619049072265625)):\n",
        "    if w1[i]==0:\n",
        "        w1[i]=w1[i]\n",
        "    else:\n",
        "        w1[i]=math.log(w1[i]/SUM[1])   \n",
        "for i in range(w1.index(0.005619049072265625),256):\n",
        "    if w1[i]==0:\n",
        "        w1[i]=w1[i]\n",
        "    else:\n",
        "        w1[i]=math.log(w1[i]/SUM[2])\n",
        "\n"
      ],
      "execution_count": 0,
      "outputs": []
    },
    {
      "cell_type": "code",
      "metadata": {
        "id": "cboh5D3jBB33",
        "colab_type": "code",
        "outputId": "45dc8d3b-5ad7-4372-8cfe-1ccbf5f1a538",
        "colab": {
          "base_uri": "https://localhost:8080/",
          "height": 54
        }
      },
      "source": [
        "print(w1)"
      ],
      "execution_count": 16,
      "outputs": [
        {
          "output_type": "stream",
          "text": [
            "[0.0, 0.0, 0.0, 0.0, 0.0, 0.0, 0.0, 0.0, 0.0, 0.0, 0.0, 0.0, 0.0, 0.0, 0.0, 0.0, 0.0, 0.0, 0.0, 0.0, 0.0, 0.0, 0.0, 0.0, 0.0, -11.22944787461632, -9.283537725561006, -8.285008895449879, -7.862152044629845, -7.1519104307106, -6.6547368961129365, -6.309466948788194, -6.025441187539524, -5.831285173098566, -5.5290043012256325, -5.184442560580307, -5.0168417788648005, -4.809452946469176, -4.598764488973948, -4.379321708470818, -4.2634236875102065, -4.0945570230504345, -3.956355278616797, -3.822130164146902, -3.7563787865841216, -3.688295419480011, -3.62954591540782, -3.5845285296574625, -3.6171110374485735, -3.5792791737713188, -3.58548592561379, -3.6136568025804863, -3.639606362433662, -3.7294713336641974, -3.7735711871244946, -3.810067291697627, -3.866168287653281, -3.9371106984424418, -4.076396239678839, -4.109812236598683, -4.122841736889017, -4.3186970866543835, -4.394263288469017, -4.347010403618472, -4.449525967144067, -4.43486129373982, -4.558681553770445, -4.54733927716651, -4.584356905110675, -4.567593134071008, -4.484211525131957, -4.518924765163891, -4.506818079760871, -4.56376415683391, -4.446122674012359, -4.42040856857334, -4.464408897835777, -4.479516680827749, -4.376148781430241, -4.349063792430314, -4.42040856857334, -4.4138078845419875, -4.464408897835777, -4.3899714363874764, -4.391042673768975, -4.352151803118891, -4.316705054123143, -4.302870841393594, -4.2634236875102065, -4.196823613588313, -4.203909559977799, -4.151106295058648, -4.123661745135047, -4.041035138119366, -3.985220359012969, -3.89120972455073, -3.839883920938684, -4.30588070120295, -4.271075665521089, -4.162779857562277, -4.258329874278652, -4.237441386331296, -4.225625168704723, -4.292686447120667, -4.331666883298972, -4.350005506111888, -4.418833142965284, -4.489420487285393, -4.534991105716154, -4.587860560098646, -4.58859450508572, -4.599668815384814, -4.601154699759239, -4.5273654188495165, -4.58859450508572, -4.595963735192269, -4.569684850728429, -4.525985156380559, -4.4522220712797465, -4.443293440535445, -4.425048203368719, -4.3203737085055165, -4.302565781040327, -4.259385840585856, -4.1860705755683725, -4.138145736476031, -4.0629019699793965, -4.056412654539646, -4.0333937353594145, -3.9736867154425686, -4.06246803636443, -4.0637704025133505, -4.085730002535597, -4.1671057475093995, -4.2069046624712145, -4.299811717057755, -4.237441386331296, -4.254117124499029, -4.191979012254539, -4.136742883779282, -4.083069247085572, -4.06246803636443, -4.054258873823376, -3.9994219515665574, -3.9982007016691985, -4.018336989180307, -4.093755012166032, -4.058139025274844, -4.06987063929549, -4.117306825402163, -4.075568660410128, -4.058139025274844, -4.0258370243368535, -3.9428067945646337, -3.9098679848522133, -3.8888611316729187, -3.903926638002563, -3.959105176297753, -4.017921965310478, -4.081741519517209, -4.184108828985334, -4.280742765509819, -4.3203737085055165, -4.41945291366997, -3.5804781882025067, -3.6136075119623863, -3.665454976494349, -3.758329101500793, -3.741440883472271, -3.789633140299526, -3.80992124106742, -3.7788132261703766, -3.672129083582042, -3.7327072035035163, -3.7607651562986737, -3.8210849465321965, -3.7980365510959055, -3.763207159954226, -3.885278104171256, -4.0275293300887745, -4.0687052442729605, -4.163794209608957, -4.211125584314729, -4.340293333651479, -4.46207564749778, -4.432994438196938, -4.407835878560784, -4.354913477106441, -4.421909605772446, -4.380269048728128, -4.270236683716935, -4.194679925874922, -4.156521450279877, -4.028591465079757, -4.067599660965211, -3.99002493463032, -4.05224848230945, -4.062090005154241, -4.138567646663281, -4.1613640747556655, -4.110495627884595, -4.0709200846025135, -4.149301202306391, -4.0888176540600565, -4.063189510487658, -3.9982385331677084, -3.9920720182520446, -3.9048045265216116, -3.9256781496643645, -3.9019915851449967, -4.012776691613736, -3.9859432963106713, -4.013823264184407, -4.113961835861081, -4.328749193904613, -4.576585357809194, -4.679090476870616, -4.9017249927958755, -4.932735229538436, -5.226560366503931, -5.437455295741942, -5.420213489307436, -5.60253504610139, -5.639092641835187, -6.047220867362836, -6.531729182811453, -6.571469511460967, -6.797997160759418, -6.943708971940811, -7.7844921513068215, -7.931095625498696, -8.678310027328918, -8.929624455609824, -9.083775135437081, -8.796093062985301, -10.875534604665138, 0.0, 0.0, -10.875534604665138, 0.0, 0.0, 0.0, -10.182387424105192, 0.0, -10.875534604665138, -10.875534604665138, 0.0, 0.0, 0.0, 0.0, 0.0, 0.0, 0.0, 0.0, 0.0, 0.0]\n"
          ],
          "name": "stdout"
        }
      ]
    },
    {
      "cell_type": "code",
      "metadata": {
        "id": "o_ZENze9EFOI",
        "colab_type": "code",
        "outputId": "ada5e933-bcd4-483b-9207-900d2d081735",
        "colab": {
          "base_uri": "https://localhost:8080/",
          "height": 54
        }
      },
      "source": [
        "mul=[]\n",
        "for i in range(len(w0)):\n",
        "    mul.append(w0[i]*w1[i])\n",
        "    \n",
        "print(mul)"
      ],
      "execution_count": 17,
      "outputs": [
        {
          "output_type": "stream",
          "text": [
            "[0.0, 0.0, 0.0, 0.0, 0.0, 0.0, 0.0, 0.0, 0.0, 0.0, 0.0, 0.0, 0.0, 0.0, 0.0, 0.0, 0.0, 0.0, 0.0, 0.0, 0.0, 0.0, 0.0, 0.0, 0.0, -0.00014909777304445695, -0.0008628281384954995, -0.002090062788963138, -0.0030272771960043747, -0.005602564068882115, -0.008570681912514668, -0.011476936799404942, -0.014560389507305132, -0.01711076030663847, -0.021949815259260506, -0.029048738124235085, -0.03323867501797142, -0.03920819094391728, -0.046283173331592924, -0.05488979357369553, -0.06000357306230839, -0.06822811970800753, -0.07569584094331623, -0.08363256825261689, -0.08777984311949724, -0.09226125352249642, -0.09628542061427618, -0.09946976242742706, -0.09715619030164194, -0.09984685251597988, -0.09940111812472241, -0.09739926853840335, -0.09558581689008687, -0.08952791135037533, -0.08667850328914674, -0.08438037392521697, -0.0809515559725586, -0.07679132742062705, -0.06917035416524453, -0.06744553513776583, -0.066783511060128, -0.057513054037845165, -0.05426024826432877, -0.05627403398385483, -0.05198872551764271, -0.0525828659954015, -0.04775611750391525, -0.04818068860771782, -0.04680772292779899, -0.047424953938652196, -0.05060783626801959, -0.049259615914275245, -0.04972603197569286, -0.0475669826214167, -0.0521260598166779, -0.05317449364182173, -0.051392035084492256, -0.05079275645848024, -0.055024336077519234, -0.05618512759619066, -0.05317449364182173, -0.05344671504995343, -0.051392035084492256, -0.05444040206046395, -0.05439538497299981, -0.05605166563579218, -0.05760115485944233, -0.05821638678873111, -0.06000357306230839, -0.06313401075728342, -0.062794071046989, -0.06536741284640124, -0.06674204242550882, -0.07103843171265123, -0.07407866193927129, -0.0794609453019149, -0.08254251510966766, -0.0580820270606649, -0.05965305253163202, -0.06479046889032888, -0.06023794322047496, -0.06120773271736594, -0.061762558358954084, -0.058673112955844924, -0.05694243385380439, -0.05614439665326069, -0.05323935095099296, -0.05040338914219236, -0.048646861541150874, -0.046679660075801564, -0.04665287446291645, -0.04625043030675603, -0.04619667717601523, -0.04893681837619979, -0.04665287446291645, -0.04638471622322876, -0.047347530794866116, -0.04898947064258859, -0.051880164027348886, -0.052240481698728185, -0.052983908138961526, -0.05743899772955058, -0.05823002038672534, -0.0601892893919053, -0.06365304650183841, -0.06601337283873125, -0.06987799537800202, -0.0702205936494759, -0.07144798362215787, -0.07472112656817902, -0.06990085789013228, -0.06983226063246567, -0.0686846467681651, -0.06457783632422506, -0.06265088198527984, -0.058353234908749545, -0.06120773271736594, -0.06043240113108779, -0.06336737931051156, -0.06608363457489615, -0.06882279439478073, -0.06990085789013228, -0.07033463189111402, -0.07329432365461513, -0.07336148076457245, -0.0722611342624746, -0.06826948662057551, -0.07012930512247045, -0.06951175359028434, -0.0670640223126695, -0.06921356739971365, -0.07012930512247045, -0.07185506472174302, -0.07646562844618149, -0.07836605832539464, -0.07959971352145134, -0.07871325123912873, -0.07554043961016309, -0.07228366417388832, -0.06889182355781466, -0.06374815147661683, -0.059212877960672844, -0.05743899772955058, -0.05321382753002487, -0.09976061382757281, -0.09740274092621863, -0.09380824679283588, -0.08765429818507722, -0.08874660691687117, -0.08566046120751951, -0.08438946362172903, -0.08634509953683422, -0.0933539162111386, -0.08931610669097827, -0.087497704470603, -0.08369713371449644, -0.08513199752300392, -0.08734097235068823, -0.07981183008549728, -0.07176372082667118, -0.06957288177545078, -0.06474055347000138, -0.06244958968927209, -0.05656576138017798, -0.05148516361763758, -0.0526589461703459, -0.053694106073602525, -0.05593255246099218, -0.053112765991365184, -0.05484968146968849, -0.059691393672173854, -0.0632371782193488, -0.06509920670421507, -0.0717064438806827, -0.069630917078206, -0.0738124801117607, -0.07044122714060537, -0.06992078053777138, -0.06599225464159392, -0.06486019629634117, -0.06741066656659057, -0.069456748374439, -0.0654570375229071, -0.06852464564846142, -0.06986284950977512, -0.07335939957199533, -0.07369932641939196, -0.0786618650716991, -0.07744873569712547, -0.07882662176660027, -0.07256349929412925, -0.07403855556352884, -0.07250650154720542, -0.06723405954913225, -0.05707034989977709, -0.04709293953975451, -0.043456852557237455, -0.03643819248621596, -0.035549059384004086, -0.028076931622507736, -0.023655866949527052, -0.02399095762002648, -0.020664957988722095, -0.020053141215976227, -0.014298193739390442, -0.0095133665060715, -0.009198341949573677, -0.007586619866548237, -0.006698491640701788, -0.0032394277588807777, -0.0028503757898968207, -0.001477382681936941, -0.0011823513948071341, -0.0010309389754028502, -0.0013310523484192864, -0.0002057149943190485, 0.0, 0.0, -0.0002057149943190485, 0.0, 0.0, 0.0, -0.0003852076881270052, 0.0, -0.0002057149943190485, -0.0002057149943190485, 0.0, 0.0, 0.0, 0.0, 0.0, 0.0, 0.0, 0.0, 0.0, 0.0]\n"
          ],
          "name": "stdout"
        }
      ]
    },
    {
      "cell_type": "code",
      "metadata": {
        "id": "j7Kqzma3EIsV",
        "colab_type": "code",
        "outputId": "b77a27c4-cf24-4645-8bf5-9e6b79a6c19f",
        "colab": {
          "base_uri": "https://localhost:8080/",
          "height": 34
        }
      },
      "source": [
        "kapur_entropy=[]\n",
        "for i in range(len(thresholds)-1):\n",
        "    kapur_entropy.append(-(sum(mul[thresholds[i]:thresholds[i+1]])))\n",
        "    \n",
        "print(kapur_entropy)"
      ],
      "execution_count": 18,
      "outputs": [
        {
          "output_type": "stream",
          "text": [
            "[4.105067273611205, 4.185484387890942, 4.0558493649527305]\n"
          ],
          "name": "stdout"
        }
      ]
    },
    {
      "cell_type": "markdown",
      "metadata": {
        "id": "UTVX1b0FF2bn",
        "colab_type": "text"
      },
      "source": [
        "# RESULTS"
      ]
    },
    {
      "cell_type": "code",
      "metadata": {
        "id": "0nZ_3GXvEMmd",
        "colab_type": "code",
        "outputId": "f3c0d849-ee65-4fa2-d7a0-0f40fdad8be3",
        "colab": {
          "base_uri": "https://localhost:8080/",
          "height": 34
        }
      },
      "source": [
        "J=sum(kapur_entropy)\n",
        "print(J)"
      ],
      "execution_count": 19,
      "outputs": [
        {
          "output_type": "stream",
          "text": [
            "12.346401026454878\n"
          ],
          "name": "stdout"
        }
      ]
    }
  ]
}