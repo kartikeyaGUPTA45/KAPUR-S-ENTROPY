{
  "nbformat": 4,
  "nbformat_minor": 0,
  "metadata": {
    "colab": {
      "name": "KAPUR_ENTROPY_FOR_THREE_THRESHOLD_VALUES",
      "provenance": [],
      "authorship_tag": "ABX9TyMpTrp3VGoqfO7RSKEYeQ3W",
      "include_colab_link": true
    },
    "kernelspec": {
      "name": "python3",
      "display_name": "Python 3"
    }
  },
  "cells": [
    {
      "cell_type": "markdown",
      "metadata": {
        "id": "view-in-github",
        "colab_type": "text"
      },
      "source": [
        "<a href=\"https://colab.research.google.com/github/kartikeyaGUPTA45/KAPUR-S-ENTROPY/blob/master/KAPUR_ENTROPY_FOR_THREE_THRESHOLD_VALUES.ipynb\" target=\"_parent\"><img src=\"https://colab.research.google.com/assets/colab-badge.svg\" alt=\"Open In Colab\"/></a>"
      ]
    },
    {
      "cell_type": "markdown",
      "metadata": {
        "id": "mue2-Tj-EY5V",
        "colab_type": "text"
      },
      "source": [
        "# KAPUR'S ENTROPY FOR FOUR THRESHOLD VALUES"
      ]
    },
    {
      "cell_type": "markdown",
      "metadata": {
        "id": "TszJvkxxEjKP",
        "colab_type": "text"
      },
      "source": [
        "# IMPORTING THE LIBRARIES"
      ]
    },
    {
      "cell_type": "code",
      "metadata": {
        "id": "LKKWV50n9Hax",
        "colab_type": "code",
        "colab": {}
      },
      "source": [
        "import math\n",
        "import numpy as np\n",
        "from matplotlib import pyplot as plt\n",
        "from PIL import Image"
      ],
      "execution_count": 0,
      "outputs": []
    },
    {
      "cell_type": "markdown",
      "metadata": {
        "id": "H6VeSFetEqfG",
        "colab_type": "text"
      },
      "source": [
        "# READ AN IMAGE AND CONVERT IT INTO GREYSCALE"
      ]
    },
    {
      "cell_type": "code",
      "metadata": {
        "id": "dZ7O5Azj9M_G",
        "colab_type": "code",
        "outputId": "915481eb-2b25-4241-c1df-15a7990a1699",
        "colab": {
          "base_uri": "https://localhost:8080/",
          "height": 34
        }
      },
      "source": [
        "image = Image.open('lena.tiff').convert(\"L\")\n",
        "print(image)"
      ],
      "execution_count": 2,
      "outputs": [
        {
          "output_type": "stream",
          "text": [
            "<PIL.Image.Image image mode=L size=512x512 at 0x7FAF20B3EB70>\n"
          ],
          "name": "stdout"
        }
      ]
    },
    {
      "cell_type": "markdown",
      "metadata": {
        "id": "1xT_gdbpEx_2",
        "colab_type": "text"
      },
      "source": [
        "# DEFINE THE THRESHOLD VALUES"
      ]
    },
    {
      "cell_type": "code",
      "metadata": {
        "id": "bviL6Fqy9lju",
        "colab_type": "code",
        "colab": {}
      },
      "source": [
        "thresholds=[81,127,171]\n",
        "thresholds.append(255)\n",
        "thresholds.insert(0,0)"
      ],
      "execution_count": 0,
      "outputs": []
    },
    {
      "cell_type": "markdown",
      "metadata": {
        "id": "U7b9TdhrE5pn",
        "colab_type": "text"
      },
      "source": [
        "# CONVERT IMAGE INTO ARRAY"
      ]
    },
    {
      "cell_type": "code",
      "metadata": {
        "id": "IMUmrLeK9ojh",
        "colab_type": "code",
        "outputId": "bab250b9-bf7d-482d-90ac-42f2be060b23",
        "colab": {
          "base_uri": "https://localhost:8080/",
          "height": 134
        }
      },
      "source": [
        "img = np.asarray(image)#Convert given input into array\n",
        "print(img)"
      ],
      "execution_count": 4,
      "outputs": [
        {
          "output_type": "stream",
          "text": [
            "[[162 162 162 ... 170 155 128]\n",
            " [162 162 162 ... 170 155 128]\n",
            " [162 162 162 ... 170 155 128]\n",
            " ...\n",
            " [ 43  43  50 ... 104 100  98]\n",
            " [ 44  44  55 ... 104 105 108]\n",
            " [ 44  44  55 ... 104 105 108]]\n"
          ],
          "name": "stdout"
        }
      ]
    },
    {
      "cell_type": "markdown",
      "metadata": {
        "id": "C3jZUPGrFHKk",
        "colab_type": "text"
      },
      "source": [
        "# MAKING HISTOGRAM"
      ]
    },
    {
      "cell_type": "code",
      "metadata": {
        "id": "j1uy_nBe9s4d",
        "colab_type": "code",
        "colab": {}
      },
      "source": [
        "def Hist(img):\n",
        "    row, col = img.shape \n",
        "    y = np.zeros(256,dtype=float)\n",
        "    for i in range(0,row):\n",
        "        for j in range(0,col):\n",
        "             y[img[i,j]] += 1\n",
        "    x = np.arange(0,256)\n",
        "    plt.bar(x, y, color='b', width=5, align='edge', alpha=0.25)\n",
        "    plt.show()\n",
        "    return y"
      ],
      "execution_count": 0,
      "outputs": []
    },
    {
      "cell_type": "code",
      "metadata": {
        "id": "3R0OT_aV9vUR",
        "colab_type": "code",
        "outputId": "0ebcb1a7-b1fd-4e4b-aa4d-ef2aa2bac39e",
        "colab": {
          "base_uri": "https://localhost:8080/",
          "height": 265
        }
      },
      "source": [
        "h=Hist(img)"
      ],
      "execution_count": 6,
      "outputs": [
        {
          "output_type": "display_data",
          "data": {
            "image/png": "[encoded data removed]",
            "text/plain": [
              "<Figure size 432x288 with 1 Axes>"
            ]
          },
          "metadata": {
            "tags": [],
            "needs_background": "light"
          }
        }
      ]
    },
    {
      "cell_type": "markdown",
      "metadata": {
        "id": "Q7T2zfUiFK7j",
        "colab_type": "text"
      },
      "source": [
        "# COUNTING THE PIXELS"
      ]
    },
    {
      "cell_type": "code",
      "metadata": {
        "id": "DR74bHUB9yy_",
        "colab_type": "code",
        "outputId": "4e3880fa-2db5-4241-bd2a-c44914101f67",
        "colab": {
          "base_uri": "https://localhost:8080/",
          "height": 34
        }
      },
      "source": [
        "cnt = 0\n",
        "for i in range(0, len(h)):\n",
        "    if h[i]>0:\n",
        "           cnt += h[i]\n",
        "            \n",
        "print(cnt)"
      ],
      "execution_count": 7,
      "outputs": [
        {
          "output_type": "stream",
          "text": [
            "262144.0\n"
          ],
          "name": "stdout"
        }
      ]
    },
    {
      "cell_type": "markdown",
      "metadata": {
        "id": "OVKzbTU2FTQz",
        "colab_type": "text"
      },
      "source": [
        "# FINDING PROBABILITIES OF AN INDIVIDUAL PIXELS"
      ]
    },
    {
      "cell_type": "code",
      "metadata": {
        "id": "q0kzoWbJ93Lb",
        "colab_type": "code",
        "colab": {}
      },
      "source": [
        "prob=[]\n",
        "for i in range (len(h)):\n",
        "    h[i]=h[i]/cnt\n",
        "    prob.append(h[i])"
      ],
      "execution_count": 0,
      "outputs": []
    },
    {
      "cell_type": "markdown",
      "metadata": {
        "id": "jyGeFO9dFeDI",
        "colab_type": "text"
      },
      "source": [
        "# KAPUR'S ENTROPY CALCULATION"
      ]
    },
    {
      "cell_type": "code",
      "metadata": {
        "id": "WgLyOqQ9Cclh",
        "colab_type": "code",
        "colab": {}
      },
      "source": [
        "w0=prob[:]"
      ],
      "execution_count": 0,
      "outputs": []
    },
    {
      "cell_type": "code",
      "metadata": {
        "id": "LKWU0t3g_ieo",
        "colab_type": "code",
        "outputId": "5a3c5863-d3bb-44b7-f252-8baacc36340c",
        "colab": {
          "base_uri": "https://localhost:8080/",
          "height": 34
        }
      },
      "source": [
        "SUM=[]\n",
        "for i in range(len(thresholds)-1):\n",
        "    SUM.append(sum(h[thresholds[i]:thresholds[i+1]]))\n",
        "    \n",
        "print(SUM)"
      ],
      "execution_count": 10,
      "outputs": [
        {
          "output_type": "stream",
          "text": [
            "[0.21771240234375, 0.2624244689941406, 0.3529205322265625, 0.16694259643554688]\n"
          ],
          "name": "stdout"
        }
      ]
    },
    {
      "cell_type": "code",
      "metadata": {
        "id": "Drv93OEd_oLz",
        "colab_type": "code",
        "outputId": "ebb6acc5-2ef0-42c7-955f-cdfb31795e70",
        "colab": {
          "base_uri": "https://localhost:8080/",
          "height": 67
        }
      },
      "source": [
        "print(w0[81])\n",
        "print(w0[127])\n",
        "print(w0[171])"
      ],
      "execution_count": 11,
      "outputs": [
        {
          "output_type": "stream",
          "text": [
            "0.00347900390625\n",
            "0.008846282958984375\n",
            "0.004608154296875\n"
          ],
          "name": "stdout"
        }
      ]
    },
    {
      "cell_type": "code",
      "metadata": {
        "id": "58AC_JCf_qxt",
        "colab_type": "code",
        "colab": {}
      },
      "source": [
        "\n",
        "for i in range(0,w0.index(0.00347900390625)):\n",
        "    w0[i]=w0[i]/SUM[0]\n",
        "for i in range(w0.index(0.00347900390625),w0.index(0.008846282958984375)):\n",
        "    w0[i]=w0[i]/SUM[1]\n",
        "for i in range(w0.index(0.008846282958984375),w0.index(0.004608154296875)):\n",
        "    w0[i]=w0[i]/SUM[2]\n",
        "for i in range(w0.index(0.004608154296875),256):\n",
        "    w0[i]=w0[i]/SUM[3]"
      ],
      "execution_count": 0,
      "outputs": []
    },
    {
      "cell_type": "code",
      "metadata": {
        "id": "ZxihtmA0_zsS",
        "colab_type": "code",
        "outputId": "c4830dc5-1c26-47c1-a166-4098a5ff45c4",
        "colab": {
          "base_uri": "https://localhost:8080/",
          "height": 54
        }
      },
      "source": [
        "print(w0)"
      ],
      "execution_count": 13,
      "outputs": [
        {
          "output_type": "stream",
          "text": [
            "[0.0, 0.0, 0.0, 0.0, 0.0, 0.0, 0.0, 0.0, 0.0, 0.0, 0.0, 0.0, 0.0, 0.0, 0.0, 0.0, 0.0, 0.0, 0.0, 0.0, 0.0, 0.0, 0.0, 0.0, 0.0, 1.7521726941407345e-05, 0.00012265208858985141, 0.0003329128118867396, 0.0005081300813008131, 0.0010337818895430333, 0.0016996075133165125, 0.002400476590972806, 0.003188954303336137, 0.0038723016540510233, 0.005238996355480796, 0.007394168769273899, 0.008743341743762265, 0.01075834034202411, 0.013281469021586768, 0.016540510232688533, 0.018573030557891786, 0.021989767311466218, 0.025248808522567983, 0.028875805999439303, 0.03083823941687693, 0.033010933557611435, 0.03500841042893187, 0.03662040930754135, 0.03544645360246706, 0.036813148303896835, 0.036585365853658534, 0.03556910569105691, 0.03465797589010373, 0.03167928231006448, 0.030312587608634707, 0.029226240538267452, 0.027631763386599385, 0.02573941687692739, 0.022392767031118588, 0.021656854499579478, 0.02137650686851696, 0.017574292122231567, 0.01629520605550883, 0.01708368376787216, 0.015419119708438464, 0.01564690215867676, 0.013824642556770395, 0.013982338099243062, 0.013474208017942248, 0.013701990468180544, 0.014893467900196243, 0.01438533781889543, 0.014560555088309503, 0.013754555649004767, 0.015471684889262685, 0.015874684608915054, 0.015191337258200169, 0.014963554807961873, 0.016593075413512754, 0.017048640313989345, 0.015874684608915054, 0.013257162792726004, 0.012603026470716497, 0.013576962772375096, 0.013562426409663774, 0.014100271829982702, 0.014609044524878986, 0.014812553602837498, 0.015408544474001716, 0.01646969895192825, 0.016353408050237668, 0.017240126175628333, 0.017719826145101973, 0.01924614422979082, 0.020350907795851324, 0.02235692585001381, 0.02353437122963092, 0.026267207419359527, 0.02719753463288416, 0.030308316253107148, 0.027546407337955898, 0.02812786184640879, 0.028462198188769206, 0.026616080124431264, 0.0255985347346387, 0.02513337112787638, 0.02346168941607431, 0.02186268951782885, 0.02088875321617025, 0.019813062375532393, 0.01979852601282107, 0.019580480572151237, 0.019551407846728593, 0.021048653205994795, 0.01979852601282107, 0.01965316238570785, 0.020176471443315455, 0.02107772593141744, 0.022691262192374224, 0.022894771270332737, 0.023316325788961086, 0.025889261988865146, 0.02635442559562746, 0.02751733461253325, 0.029610570842963674, 0.03106420711409591, 0.03349177968688675, 0.025065934541052357, 0.025649617363483073, 0.027227722772277228, 0.024914609364866617, 0.024882182541398245, 0.024341735483592027, 0.022439361840114143, 0.02156383760646807, 0.019650655021834062, 0.02091530113710061, 0.02056941502010463, 0.021888105841151802, 0.0231311340741061, 0.024406589130528775, 0.024914609364866617, 0.025119979246832982, 0.02653595053828527, 0.02656837736175364, 0.02603873924510355, 0.02414717454278179, 0.025022698776427862, 0.024730857365212505, 0.023585109602663322, 0.024590341130182887, 0.025022698776427862, 0.02584417830429331, 0.028081629123611052, 0.02902200700419387, 0.029638116650092958, 0.02919495006269186, 0.027627653595053828, 0.026049548186259673, 0.024439015953997147, 0.022061048899649792, 0.020028967962298413, 0.019250724199057462, 0.01743482208482857, 0.015921570322971163, 0.015402741147477193, 0.01462449738423624, 0.013327424445501319, 0.01355441220977993, 0.012916684681568593, 0.012657270093821608, 0.02760322646984896, 0.030710874483010762, 0.028905696593012363, 0.028105934236683956, 0.026460708817951237, 0.027077668349976006, 0.028037383177570093, 0.02481548339921852, 0.021525032561753078, 0.02065671914631081, 0.018782990197198545, 0.01791467678175628, 0.015743893243150606, 0.013938715353152206, 0.014350021707835387, 0.014715627356442657, 0.015515389712771062, 0.014509974179101067, 0.015126933711125837, 0.016886410895048328, 0.018211731371249686, 0.018920092315426275, 0.021502182208715123, 0.020679569499348766, 0.02234764527111944, 0.020999474441880127, 0.020793821264538537, 0.01926284761099559, 0.018828690903274457, 0.019811256083906496, 0.020611018440234902, 0.019057194433654, 0.020245412791627632, 0.020770970911500583, 0.022164842446815804, 0.02230194456504353, 0.024335625985421473, 0.023832918218586477, 0.024404177044535336, 0.021844937504284442, 0.022439046683271256, 0.021822087151246488, 0.019742705024792633, 0.01592669606745424, 0.012430592052647214, 0.011219523341635628, 0.008980188743916094, 0.00870598450746064, 0.00648950026277906, 0.00525558119872952, 0.005346982610881338, 0.004455818842401115, 0.004295866371135434, 0.0028562941297443044, 0.0017594771839224916, 0.0016909261248086282, 0.0013481708292393116, 0.0011653680049356762, 0.0005027077668349977, 0.0004341567077211343, 0.00020565317734158993, 0.00015995247126568106, 0.00013710211822772663, 0.0001828028243036355, 2.2850353037954437e-05, 0.0, 0.0, 2.2850353037954437e-05, 0.0, 0.0, 0.0, 4.5700706075908874e-05, 0.0, 2.2850353037954437e-05, 2.2850353037954437e-05, 0.0, 0.0, 0.0, 0.0, 0.0, 0.0, 0.0, 0.0, 0.0, 0.0]\n"
          ],
          "name": "stdout"
        }
      ]
    },
    {
      "cell_type": "code",
      "metadata": {
        "id": "Oty5opVfAZGi",
        "colab_type": "code",
        "colab": {}
      },
      "source": [
        "w1=prob[:]"
      ],
      "execution_count": 0,
      "outputs": []
    },
    {
      "cell_type": "code",
      "metadata": {
        "id": "9NDOGDttAcl4",
        "colab_type": "code",
        "colab": {}
      },
      "source": [
        "for i in range(0,w1.index(0.00347900390625)):\n",
        "    if w1[i]==0:\n",
        "        w1[i]=w1[i]\n",
        "    else:\n",
        "        w1[i]=math.log(w1[i]/SUM[0])\n",
        "for i in range(w1.index(0.00347900390625),w1.index(0.008846282958984375)):\n",
        "    if w1[i]==0:\n",
        "        w1[i]=w1[i]\n",
        "    else:\n",
        "        w1[i]=math.log(w1[i]/SUM[1])\n",
        "for i in range(w1.index(0.008846282958984375),w1.index(0.004608154296875)):\n",
        "    if w1[i]==0:\n",
        "        w1[i]=w1[i]\n",
        "    else:\n",
        "        w1[i]=math.log(w1[i]/SUM[2])\n",
        "\n",
        "    \n",
        "for i in range(w1.index(0.004608154296875),256):\n",
        "    if w1[i]==0:\n",
        "        w1[i]=w1[i]\n",
        "    else:\n",
        "        w1[i]=math.log(w1[i]/SUM[3])\n",
        "\n"
      ],
      "execution_count": 0,
      "outputs": []
    },
    {
      "cell_type": "code",
      "metadata": {
        "id": "cboh5D3jBB33",
        "colab_type": "code",
        "outputId": "6ec2748d-c1f4-4470-8312-24afbd3c9015",
        "colab": {
          "base_uri": "https://localhost:8080/",
          "height": 54
        }
      },
      "source": [
        "print(w1)"
      ],
      "execution_count": 16,
      "outputs": [
        {
          "output_type": "stream",
          "text": [
            "[0.0, 0.0, 0.0, 0.0, 0.0, 0.0, 0.0, 0.0, 0.0, 0.0, 0.0, 0.0, 0.0, 0.0, 0.0, 0.0, 0.0, 0.0, 0.0, 0.0, 0.0, 0.0, 0.0, 0.0, 0.0, -10.952068907598672, -9.006158758543359, -8.007629928432232, -7.584773077612199, -6.8745314636929535, -6.3773579290952895, -6.032087981770548, -5.748062220521877, -5.55390620608092, -5.251625334207986, -4.907063593562661, -4.7394628118471545, -4.53207397945153, -4.321385521956301, -4.101942741453172, -3.98604472049256, -3.8171780560327884, -3.6789763115991505, -3.544751197129256, -3.478999819566475, -3.4109164524623643, -3.352166948390174, -3.307149562639816, -3.3397320704309275, -3.3019002067536722, -3.3081069585961433, -3.3362778355628397, -3.3622273954160153, -3.452092366646551, -3.496192220106848, -3.5326883246799805, -3.5887893206356343, -3.6597317314247957, -3.799017272661193, -3.8324332695810366, -3.8454627698713706, -4.041318119636737, -4.116884321451371, -4.069631436600826, -4.1721470001264205, -4.157482326722174, -4.2813025867527985, -4.269960310148864, -4.306977938093029, -4.290214167053362, -4.206832558114311, -4.2415457981462446, -4.229439112743225, -4.286385189816264, -4.168743706994713, -4.1430296015556936, -4.187029930818131, -4.202137713810103, -4.098769814412595, -4.071684825412667, -4.1430296015556936, -4.323217284484766, -4.373818297778556, -4.299380836330255, -4.300452073711754, -4.261561203061669, -4.226114454065922, -4.212280241336373, -4.172833087452985, -4.106233013531091, -4.113318959920577, -4.060515695001427, -4.033071145077826, -3.9504445380621442, -3.8946297589557477, -3.8006191244935086, -3.7492933208814625, -3.6394339839668692, -3.6046289482850082, -3.496333140326196, -3.591883157042571, -3.5709946690952155, -3.559178451468642, -3.626239729884587, -3.6652201660628916, -3.6835587888758075, -3.7523864257292034, -3.8229737700493125, -3.8685443884800725, -3.9214138428625653, -3.92214778784964, -3.933222098148734, -3.9347079825231583, -3.860918701613436, -3.92214778784964, -3.9295170179561882, -3.903238133492348, -3.8595384391444774, -3.7857753540436656, -3.7768467232993643, -3.758601486132638, -3.653926991269436, -3.6361190638042467, -3.5929391233497747, -3.519623858332292, -3.47169901923995, -3.3964552527433156, -3.686245544259858, -3.663226625079626, -3.6035196051627794, -3.692300926084641, -3.6936032922335618, -3.7155628922558086, -3.7969386372296103, -3.8367375521914258, -3.9296446067779653, -3.8672742760515075, -3.88395001421924, -3.8218119019747503, -3.7665757734994925, -3.7129021368057824, -3.692300926084641, -3.684091763543588, -3.6292548412867687, -3.6280335913894097, -3.6481698789005184, -3.7235879018862437, -3.6879719149950554, -3.699703529015701, -3.7471397151223735, -3.705401550130339, -3.6879719149950554, -3.6556699140570648, -3.572639684284845, -3.5397008745724245, -3.51869402139313, -3.5337595277227742, -3.588938066017964, -3.647754855030689, -3.7115744092374197, -3.8139417187055447, -3.91057565523003, -3.950206598225728, -4.04928580339018, -4.140080465052759, -4.173209788812639, -4.225057253344602, -4.317931378351045, -4.301043160322524, -4.349235417149779, -4.369523517917672, -3.5898226120099475, -3.483138469421613, -3.543716589343087, -3.571774542138245, -3.6320943323717674, -3.6090459369354764, -3.5742165457937967, -3.6962874900108273, -3.838538715928345, -3.8797146301125314, -3.974803595448528, -4.0221349701543, -4.151302719491049, -4.273085033337351, -4.244003824036509, -4.218845264400354, -4.165922862946012, -4.232918991612016, -4.1912784345677, -4.0812460695565065, -4.005689311714493, -3.9675308361194483, -3.8396008509193282, -3.878609046804782, -3.8010343204698906, -3.863257868149021, -3.8730993909938123, -3.9495770325028525, -3.9723734605952363, -3.921505013724166, -3.8819294704420844, -3.960310588145961, -3.899827039899627, -3.874198896327229, -3.809247919007279, -3.8030814040916154, -3.7158139123611824, -3.7366875355039353, -3.713000970984568, -3.8237860774533066, -3.796952682150242, -3.8248326500239775, -3.9249712217006523, -4.139758579744184, -4.387594743648766, -4.490099862710188, -4.712734378635447, -4.743744615378007, -5.037569752343502, -5.248464681581512, -5.231222875147006, -5.413544431940961, -5.450102027674759, -5.858230253202406, -6.342738568651024, -6.382478897300539, -6.609006546598988, -6.754718357780383, -7.595501537146392, -7.742105011338268, -8.489319413168488, -8.740633841449394, -8.894784521276653, -8.607102448824872, -10.686543990504708, 0.0, 0.0, -10.686543990504708, 0.0, 0.0, 0.0, -9.993396809944763, 0.0, -10.686543990504708, -10.686543990504708, 0.0, 0.0, 0.0, 0.0, 0.0, 0.0, 0.0, 0.0, 0.0, 0.0]\n"
          ],
          "name": "stdout"
        }
      ]
    },
    {
      "cell_type": "code",
      "metadata": {
        "id": "o_ZENze9EFOI",
        "colab_type": "code",
        "outputId": "9dbe2305-93ef-43c8-a515-5b71e873c642",
        "colab": {
          "base_uri": "https://localhost:8080/",
          "height": 54
        }
      },
      "source": [
        "mul=[]\n",
        "for i in range(len(w0)):\n",
        "    mul.append(w0[i]*w1[i])\n",
        "    \n",
        "print(mul)"
      ],
      "execution_count": 17,
      "outputs": [
        {
          "output_type": "stream",
          "text": [
            "[0.0, 0.0, 0.0, 0.0, 0.0, 0.0, 0.0, 0.0, 0.0, 0.0, 0.0, 0.0, 0.0, 0.0, 0.0, 0.0, 0.0, 0.0, 0.0, 0.0, 0.0, 0.0, 0.0, 0.0, 0.0, -0.00019189916084242137, -0.0011046241819071263, -0.0026658425960227857, -0.0038540513605753047, -0.007106766126259536, -0.010839005451398988, -0.014479885994928601, -0.01833030775397711, -0.02150640018825139, -0.02751324598626626, -0.03628365637236198, -0.04143874304583211, -0.04875759432617115, -0.05739434794019617, -0.06784822588890864, -0.07403293039883153, -0.08393885723859597, -0.09288976845063035, -0.10235754788458462, -0.1072862293670626, -0.11259753638279882, -0.1173540363555433, -0.12110917062512642, -0.11838165787920112, -0.12155334199589056, -0.12102830336327353, -0.11866841894786523, -0.11652799600737451, -0.1093598086434147, -0.10597863296861591, -0.10324719872382618, -0.0991645773521586, -0.09419936069286208, -0.08507050873389761, -0.08299844969866417, -0.0822025613127816, -0.0710233051933636, -0.06708547832474374, -0.0695242965146798, -0.06433083403615171, -0.06505171919264965, -0.059187477939233915, -0.059704028726850183, -0.05803311666655346, -0.0587844736234183, -0.06265432566577593, -0.061016069180650175, -0.06158298119374859, -0.05895732362639766, -0.064497489018719, -0.06576928825009563, -0.06360658378923675, -0.06287891799120109, -0.06801119663317787, -0.06941669006038907, -0.06576928825009563, -0.05731359532874139, -0.055123347785007305, -0.058372533559118776, -0.05832456477800164, -0.06008917138327764, -0.0617394942266837, -0.06239462686496829, -0.06429728421060521, -0.06762842155932619, -0.0672667833923604, -0.07000380291994376, -0.07146531952160641, -0.0760308253513334, -0.07925925112348708, -0.08497015995044577, -0.08823726086240007, -0.09559776734592375, -0.09803702065967831, -0.1059679705432256, -0.09894347655423767, -0.1004444447065725, -0.10130204247489717, -0.09651628720100415, -0.09382426573105915, -0.09258025011216652, -0.08803732488955177, -0.08358048856939175, -0.0808090690367605, -0.07769521706891219, -0.07765274500386972, -0.07701437887875721, -0.07692908052408891, -0.0812671388068009, -0.07765274500386972, -0.07722743605129544, -0.07875357273686827, -0.08135029344205795, -0.08590402116003318, -0.08647004185304462, -0.08763677676154188, -0.0945974731651602, -0.0958278293238716, -0.09886810809967764, -0.10421807159773347, -0.10784557737147345, -0.11375333104124838, -0.09239918951466353, -0.09396036124901587, -0.09811563281383805, -0.09199223523093407, -0.091904911352865, -0.09044324909594104, -0.08520087996550511, -0.08273478551409372, -0.07722009052620456, -0.08088520606338002, -0.07989057975981682, -0.083652223415397, -0.08712516921709665, -0.09061927693488107, -0.09199223523093407, -0.09254430864364326, -0.09630572695921805, -0.09639096553715215, -0.0949937441985316, -0.08991412699223776, -0.09228301032484709, -0.09149684026966064, -0.0883767008776538, -0.0911170881420135, -0.09228301032484709, -0.09447778508053138, -0.10032554260638189, -0.10272922357459208, -0.10428746386203427, -0.10316793294542796, -0.09915393766204673, -0.09502236586778459, -0.09070722620180083, -0.0841395547567774, -0.07832479451274639, -0.07604433775174048, -0.07059857755272991, -0.06591658226709667, -0.06427887013119904, -0.06178933874978648, -0.05754690420583293, -0.058298111927066076, -0.056177702489234135, -0.05530623934758954, -0.09909068654589531, -0.10697022834135338, -0.10243359654317587, -0.10038806038959946, -0.09610779052822034, -0.09772454894016724, -0.10021167885403168, -0.09172516084710278, -0.08262467084990748, -0.08014217548206769, -0.07465869696909923, -0.07205524796291322, -0.06535766683566786, -0.05956131595950424, -0.0609015470030603, -0.0620829547854084, -0.06463591673195032, -0.061419545270516886, -0.06340119104457687, -0.06891759809433216, -0.07295053770163039, -0.07506604968368036, -0.08255979710520503, -0.08020796534420235, -0.08494416665721165, -0.08112638486458768, -0.08053653647611839, -0.07608010050499063, -0.0747945920419184, -0.07768994006121271, -0.0800105198989731, -0.07547240889595622, -0.07895360823871923, -0.08047087258098054, -0.0844313799656573, -0.08481611065039912, -0.09042665760264743, -0.08905616844207674, -0.09061273306243901, -0.08353036789172043, -0.08519999848894129, -0.08346583142775629, -0.07748954906083594, -0.06593267669222165, -0.054540400350637036, -0.05037678021595188, -0.04232124422008845, -0.04129896712883076, -0.032691310231600997, -0.027583732302715713, -0.02797125774705572, -0.024121773284018176, -0.023412910019945034, -0.016732828682912523, -0.011159903795126679, -0.010792300308485245, -0.008910069836376397, -0.00787173265650891, -0.0038183176157306547, -0.0033612868225539176, -0.0017458555107857411, -0.0013980859833682738, -0.0012194937990462245, -0.001573402636715924, -0.00024419130293866297, 0.0, 0.0, -0.00024419130293866297, 0.0, 0.0, 0.0, -0.00045670529031121096, 0.0, -0.00024419130293866297, -0.00024419130293866297, 0.0, 0.0, 0.0, 0.0, 0.0, 0.0, 0.0, 0.0, 0.0, 0.0]\n"
          ],
          "name": "stdout"
        }
      ]
    },
    {
      "cell_type": "code",
      "metadata": {
        "id": "j7Kqzma3EIsV",
        "colab_type": "code",
        "outputId": "39cbf3d5-6ae9-492b-e08f-deed6a191eee",
        "colab": {
          "base_uri": "https://localhost:8080/",
          "height": 34
        }
      },
      "source": [
        "kapur_entropy=[]\n",
        "for i in range(len(thresholds)-1):\n",
        "    kapur_entropy.append(-(sum(mul[thresholds[i]:thresholds[i+1]])))\n",
        "    \n",
        "print(kapur_entropy)"
      ],
      "execution_count": 18,
      "outputs": [
        {
          "output_type": "stream",
          "text": [
            "[3.8061463732740317, 3.79882068853208, 3.762134039646771, 3.940570354969153]\n"
          ],
          "name": "stdout"
        }
      ]
    },
    {
      "cell_type": "markdown",
      "metadata": {
        "id": "UTVX1b0FF2bn",
        "colab_type": "text"
      },
      "source": [
        "# RESULTS"
      ]
    },
    {
      "cell_type": "code",
      "metadata": {
        "id": "0nZ_3GXvEMmd",
        "colab_type": "code",
        "outputId": "ad4405b6-56c3-4a17-b17f-53a30ac9eabf",
        "colab": {
          "base_uri": "https://localhost:8080/",
          "height": 34
        }
      },
      "source": [
        "J=sum(kapur_entropy)\n",
        "print(J)"
      ],
      "execution_count": 19,
      "outputs": [
        {
          "output_type": "stream",
          "text": [
            "15.307671456422035\n"
          ],
          "name": "stdout"
        }
      ]
    }
  ]
}