{
  "nbformat": 4,
  "nbformat_minor": 0,
  "metadata": {
    "colab": {
      "name": "KAPUR'S ENTROPY FOR  THRESHOLD VALUES",
      "provenance": [],
      "authorship_tag": "ABX9TyMCRHOYk629A4ekTLL32oMo",
      "include_colab_link": true
    },
    "kernelspec": {
      "name": "python3",
      "display_name": "Python 3"
    }
  },
  "cells": [
    {
      "cell_type": "markdown",
      "metadata": {
        "id": "view-in-github",
        "colab_type": "text"
      },
      "source": [
        "<a href=\"https://colab.research.google.com/github/kartikeyaGUPTA45/KAPUR-S-ENTROPY/blob/master/KAPUR'S_ENTROPY.ipynb\" target=\"_parent\"><img src=\"https://colab.research.google.com/assets/colab-badge.svg\" alt=\"Open In Colab\"/></a>"
      ]
    },
    {
      "cell_type": "markdown",
      "metadata": {
        "id": "CEtxzlOAh-Po",
        "colab_type": "text"
      },
      "source": [
        "# KAPUR'S ENTROPY"
      ]
    },
    {
      "cell_type": "markdown",
      "metadata": {
        "id": "l9RxoPEKiGa4",
        "colab_type": "text"
      },
      "source": [
        "\n",
        "IMPORTING THE LIBRARIES\n"
      ]
    },
    {
      "cell_type": "code",
      "metadata": {
        "id": "dzwXHRkliN9Y",
        "colab_type": "code",
        "colab": {}
      },
      "source": [
        "\n",
        "import math\n",
        "import numpy as np\n",
        "from matplotlib import pyplot as plt\n",
        "from PIL import Image\n"
      ],
      "execution_count": 0,
      "outputs": []
    },
    {
      "cell_type": "markdown",
      "metadata": {
        "id": "3J-UCJvAiVr4",
        "colab_type": "text"
      },
      "source": [
        "\n",
        "READ AN IMAGE AND CONVERT INTO GREYSCALE\n"
      ]
    },
    {
      "cell_type": "code",
      "metadata": {
        "id": "oMAzX_JSiUYi",
        "colab_type": "code",
        "colab": {
          "base_uri": "https://localhost:8080/",
          "height": 34
        },
        "outputId": "85460b96-b35b-4e5d-ef42-c070e0d2e3b5"
      },
      "source": [
        "\n",
        "image = Image.open('lena.tiff').convert(\"L\")\n",
        "print(image)\n",
        "\n"
      ],
      "execution_count": 2,
      "outputs": [
        {
          "output_type": "stream",
          "text": [
            "<PIL.Image.Image image mode=L size=512x512 at 0x7EFD1295C550>\n"
          ],
          "name": "stdout"
        }
      ]
    },
    {
      "cell_type": "markdown",
      "metadata": {
        "id": "-FCIataNijpr",
        "colab_type": "text"
      },
      "source": [
        "DEFINING THE THRESHOLD VALUES\n"
      ]
    },
    {
      "cell_type": "code",
      "metadata": {
        "id": "870-6h03i8i4",
        "colab_type": "code",
        "colab": {}
      },
      "source": [
        "thresholds=[63,94,128,163,194]\n",
        "thresholds.append(256)\n",
        "thresholds.insert(0,0)"
      ],
      "execution_count": 0,
      "outputs": []
    },
    {
      "cell_type": "markdown",
      "metadata": {
        "id": "coK5qcJHjMtL",
        "colab_type": "text"
      },
      "source": [
        "CONVERT IMAGE INTO ARRAY"
      ]
    },
    {
      "cell_type": "code",
      "metadata": {
        "id": "5zZiNznJjtqE",
        "colab_type": "code",
        "colab": {
          "base_uri": "https://localhost:8080/",
          "height": 134
        },
        "outputId": "1d30899d-e1e1-45c3-cd27-744b8504885c"
      },
      "source": [
        "img = np.asarray(image)#Convert given input into array\n",
        "print(img)"
      ],
      "execution_count": 4,
      "outputs": [
        {
          "output_type": "stream",
          "text": [
            "[[162 162 162 ... 170 155 128]\n",
            " [162 162 162 ... 170 155 128]\n",
            " [162 162 162 ... 170 155 128]\n",
            " ...\n",
            " [ 43  43  50 ... 104 100  98]\n",
            " [ 44  44  55 ... 104 105 108]\n",
            " [ 44  44  55 ... 104 105 108]]\n"
          ],
          "name": "stdout"
        }
      ]
    },
    {
      "cell_type": "markdown",
      "metadata": {
        "id": "6p8Dvv-oj1zl",
        "colab_type": "text"
      },
      "source": [
        "\n",
        "MAKING HISTOGRAM"
      ]
    },
    {
      "cell_type": "code",
      "metadata": {
        "id": "2GFyiBd0j52N",
        "colab_type": "code",
        "colab": {}
      },
      "source": [
        "def Hist(img):\n",
        "    row, col = img.shape \n",
        "    y = np.zeros(256,dtype=float)\n",
        "    for i in range(0,row):\n",
        "        for j in range(0,col):\n",
        "             y[img[i,j]] += 1\n",
        "    x = np.arange(0,256)\n",
        "    plt.bar(x, y, color='b', width=5, align='edge', alpha=0.25)\n",
        "    plt.show()\n",
        "    return y"
      ],
      "execution_count": 0,
      "outputs": []
    },
    {
      "cell_type": "code",
      "metadata": {
        "id": "e5ujODxqj9Gq",
        "colab_type": "code",
        "colab": {
          "base_uri": "https://localhost:8080/",
          "height": 265
        },
        "outputId": "9b732418-93a6-4a2d-ae99-9cfaadc0c4b0"
      },
      "source": [
        "h=Hist(img)"
      ],
      "execution_count": 6,
      "outputs": [
        {
          "output_type": "display_data",
          "data": {
            "image/png": "[encoded data removed]",
            "text/plain": [
              "<Figure size 432x288 with 1 Axes>"
            ]
          },
          "metadata": {
            "tags": [],
            "needs_background": "light"
          }
        }
      ]
    },
    {
      "cell_type": "markdown",
      "metadata": {
        "id": "cVeYnytBkF7K",
        "colab_type": "text"
      },
      "source": [
        "COUNTING PIXELS"
      ]
    },
    {
      "cell_type": "code",
      "metadata": {
        "id": "o_8Wap3XkA7n",
        "colab_type": "code",
        "colab": {
          "base_uri": "https://localhost:8080/",
          "height": 34
        },
        "outputId": "9a67f4b3-6b13-4ec0-e660-e63004f46ba9"
      },
      "source": [
        "cnt = 0\n",
        "for i in range(0, len(h)):\n",
        "    if h[i]>0:\n",
        "           cnt += h[i]\n",
        "            \n",
        "print(cnt)"
      ],
      "execution_count": 7,
      "outputs": [
        {
          "output_type": "stream",
          "text": [
            "262144.0\n"
          ],
          "name": "stdout"
        }
      ]
    },
    {
      "cell_type": "markdown",
      "metadata": {
        "id": "4vmhw3cvkRje",
        "colab_type": "text"
      },
      "source": [
        "FINDING PROBABILITY OF AN INDIVIDUAL PIXEL"
      ]
    },
    {
      "cell_type": "code",
      "metadata": {
        "id": "Krh_APkzkLiV",
        "colab_type": "code",
        "colab": {}
      },
      "source": [
        "prob=[]\n",
        "for i in range (len(h)):\n",
        "    h[i]=h[i]/cnt\n",
        "    prob.append(h[i])"
      ],
      "execution_count": 0,
      "outputs": []
    },
    {
      "cell_type": "markdown",
      "metadata": {
        "id": "gBjExxTrkeYj",
        "colab_type": "text"
      },
      "source": [
        "KAPUR'S ENTROPY CALCULATION"
      ]
    },
    {
      "cell_type": "code",
      "metadata": {
        "id": "4wDmGnhLkY73",
        "colab_type": "code",
        "colab": {}
      },
      "source": [
        "w0=prob[:]"
      ],
      "execution_count": 0,
      "outputs": []
    },
    {
      "cell_type": "code",
      "metadata": {
        "id": "-rMxh8Gekj3-",
        "colab_type": "code",
        "colab": {
          "base_uri": "https://localhost:8080/",
          "height": 34
        },
        "outputId": "61ff6967-63ad-472f-e3cb-aa0d1954365c"
      },
      "source": [
        "SUM=[]\n",
        "for i in range(len(thresholds)-1):\n",
        "    SUM.append(sum(h[thresholds[i]:thresholds[i+1]]))\n",
        "    \n",
        "print(SUM)"
      ],
      "execution_count": 10,
      "outputs": [
        {
          "output_type": "stream",
          "text": [
            "[0.15855026245117188, 0.1113739013671875, 0.21905899047851562, 0.303192138671875, 0.1210174560546875, 0.0868072509765625]\n"
          ],
          "name": "stdout"
        }
      ]
    },
    {
      "cell_type": "code",
      "metadata": {
        "id": "Tlxbulxskm1E",
        "colab_type": "code",
        "colab": {
          "base_uri": "https://localhost:8080/",
          "height": 101
        },
        "outputId": "a8178def-c238-4654-a72d-ad4cc0e27352"
      },
      "source": [
        "print(w0[63])\n",
        "print(w0[94])\n",
        "print(w0[128])\n",
        "print(w0[163])\n",
        "print(w0[194])"
      ],
      "execution_count": 11,
      "outputs": [
        {
          "output_type": "stream",
          "text": [
            "0.003719329833984375\n",
            "0.005340576171875\n",
            "0.009052276611328125\n",
            "0.006153106689453125\n",
            "0.003452301025390625\n"
          ],
          "name": "stdout"
        }
      ]
    },
    {
      "cell_type": "code",
      "metadata": {
        "id": "i8Yaps1wkq95",
        "colab_type": "code",
        "colab": {}
      },
      "source": [
        "for i in range(0,w0.index(0.003719329833984375)):\n",
        "    w0[i]=w0[i]/SUM[0]"
      ],
      "execution_count": 0,
      "outputs": []
    },
    {
      "cell_type": "code",
      "metadata": {
        "id": "A-O7tOsjkumr",
        "colab_type": "code",
        "colab": {}
      },
      "source": [
        "for i in range(w0.index(0.003719329833984375),w0.index(0.005340576171875)):\n",
        "    w0[i]=w0[i]/SUM[1]\n"
      ],
      "execution_count": 0,
      "outputs": []
    },
    {
      "cell_type": "code",
      "metadata": {
        "id": "hX5L89YHkxvY",
        "colab_type": "code",
        "colab": {}
      },
      "source": [
        "for i in range(w0.index(0.005340576171875),w0.index(0.009052276611328125)):\n",
        "    w0[i]=w0[i]/SUM[2]\n"
      ],
      "execution_count": 0,
      "outputs": []
    },
    {
      "cell_type": "code",
      "metadata": {
        "id": "MuZfOWDhk047",
        "colab_type": "code",
        "colab": {}
      },
      "source": [
        "for i in range(w0.index(0.009052276611328125),w0.index(0.006153106689453125)):\n",
        "    w0[i]=w0[i]/SUM[3]\n"
      ],
      "execution_count": 0,
      "outputs": []
    },
    {
      "cell_type": "code",
      "metadata": {
        "id": "qSEDBpdUk4FC",
        "colab_type": "code",
        "colab": {}
      },
      "source": [
        "for i in range(w0.index(0.006153106689453125),w0.index(0.003452301025390625)):\n",
        "    w0[i]=w0[i]/SUM[4]\n"
      ],
      "execution_count": 0,
      "outputs": []
    },
    {
      "cell_type": "code",
      "metadata": {
        "id": "jwP9Gubhk7nz",
        "colab_type": "code",
        "colab": {}
      },
      "source": [
        "for i in range(w0.index(0.003452301025390625),256):\n",
        "    w0[i]=w0[i]/SUM[5]\n"
      ],
      "execution_count": 0,
      "outputs": []
    },
    {
      "cell_type": "code",
      "metadata": {
        "id": "f6W-lKpYlBN0",
        "colab_type": "code",
        "colab": {}
      },
      "source": [
        "w1=prob[:]"
      ],
      "execution_count": 0,
      "outputs": []
    },
    {
      "cell_type": "code",
      "metadata": {
        "id": "L9Dg4ySBlEYS",
        "colab_type": "code",
        "colab": {}
      },
      "source": [
        "for i in range(0,w1.index(0.003719329833984375)):\n",
        "    if w1[i]==0:\n",
        "        w1[i]=w1[i]\n",
        "    else:\n",
        "        w1[i]=math.log(w1[i]/SUM[0])"
      ],
      "execution_count": 0,
      "outputs": []
    },
    {
      "cell_type": "code",
      "metadata": {
        "id": "fJEQLTd8lIPR",
        "colab_type": "code",
        "colab": {}
      },
      "source": [
        "for i in range(w1.index(0.003719329833984375),w1.index(0.005340576171875)):\n",
        "    if w1[i]==0:\n",
        "        w1[i]=w1[i]\n",
        "    else:\n",
        "        w1[i]=math.log(w1[i]/SUM[1])"
      ],
      "execution_count": 0,
      "outputs": []
    },
    {
      "cell_type": "code",
      "metadata": {
        "id": "FTJwQeLllK73",
        "colab_type": "code",
        "colab": {}
      },
      "source": [
        "for i in range(w1.index(0.005340576171875),w1.index(0.009052276611328125)):\n",
        "    if w1[i]==0:\n",
        "        w1[i]=w1[i]\n",
        "    else:\n",
        "        w1[i]=math.log(w1[i]/SUM[2])"
      ],
      "execution_count": 0,
      "outputs": []
    },
    {
      "cell_type": "code",
      "metadata": {
        "id": "me3zUti2lOQI",
        "colab_type": "code",
        "colab": {}
      },
      "source": [
        "for i in range(w1.index(0.009052276611328125),w1.index(0.006153106689453125)):\n",
        "    if w1[i]==0:\n",
        "        w1[i]=w1[i]\n",
        "    else:\n",
        "        w1[i]=math.log(w1[i]/SUM[3])"
      ],
      "execution_count": 0,
      "outputs": []
    },
    {
      "cell_type": "code",
      "metadata": {
        "id": "EvM9m3xJlRUX",
        "colab_type": "code",
        "colab": {}
      },
      "source": [
        "for i in range(w1.index(0.006153106689453125),w1.index(0.003452301025390625)):\n",
        "    if w1[i]==0:\n",
        "        w1[i]=w1[i]\n",
        "    else:\n",
        "        w1[i]=math.log(w1[i]/SUM[4])"
      ],
      "execution_count": 0,
      "outputs": []
    },
    {
      "cell_type": "code",
      "metadata": {
        "id": "uMcCILXNlVIv",
        "colab_type": "code",
        "colab": {}
      },
      "source": [
        "for i in range(w1.index(0.003452301025390625),256):\n",
        "    if w1[i]==0:\n",
        "        w1[i]=w1[i]\n",
        "    else:\n",
        "        w1[i]=math.log(w1[i]/SUM[5])"
      ],
      "execution_count": 0,
      "outputs": []
    },
    {
      "cell_type": "code",
      "metadata": {
        "id": "dyA4RdKflYMT",
        "colab_type": "code",
        "colab": {
          "base_uri": "https://localhost:8080/",
          "height": 54
        },
        "outputId": "7c8d6e90-ac55-4ee9-fbbb-55f0cca94be2"
      },
      "source": [
        "mul=[]\n",
        "for i in range(len(w0)):\n",
        "    mul.append(w0[i]*w1[i])\n",
        "    \n",
        "print(mul)"
      ],
      "execution_count": 25,
      "outputs": [
        {
          "output_type": "stream",
          "text": [
            "[0.0, 0.0, 0.0, 0.0, 0.0, 0.0, 0.0, 0.0, 0.0, 0.0, 0.0, 0.0, 0.0, 0.0, 0.0, 0.0, 0.0, 0.0, 0.0, 0.0, 0.0, 0.0, 0.0, 0.0, 0.0, -0.00025587579403317946, -0.001463402265197894, -0.0035156270316497205, -0.005070914614561565, -0.009308477800597256, -0.014143461755481377, -0.018837737990893076, -0.023781597265332435, -0.027845281779953466, -0.03549845040418389, -0.046603066483171106, -0.053094276310495146, -0.062266727843078976, -0.07302759519892857, -0.08596319927399913, -0.09357067407820946, -0.10568519701833642, -0.11655701076076277, -0.1279783405216974, -0.133891632203863, -0.14023877045802155, -0.14590037314555473, -0.15035480428034928, -0.14712070934826527, -0.1508807916342476, -0.1502590207755957, -0.14746106747326623, -0.1449186896976146, -0.13637274182084158, -0.13232499737850822, -0.12904737035816838, -0.12413562268774449, -0.1181416450894473, -0.10706364031394332, -0.10453884144257834, -0.10356804314900167, -0.08987290339863387, -0.085022649191973, -0.11352122837150068, -0.10555011901929574, -0.10666084284298041, -0.09758512501683576, -0.09838825042153472, -0.09578775317638241, -0.09695804291973208, -0.10296164017756154, -0.10042497766957038, -0.10130359060494787, -0.09722705407279951, -0.10580702021877511, -0.10776508439494659, -0.10443281715614401, -0.10330883861353068, -0.11120626252630553, -0.113356796540797, -0.10776508439494659, -0.10827257385523492, -0.10443281715614401, -0.1101218679872607, -0.11003819741329837, -0.11310988469111766, -0.11597100263524929, -0.11710367682478508, -0.12038322283166648, -0.12608923739001246, -0.1254719743346564, -0.13013036922299043, -0.1326053244316693, -0.14028043276622584, -0.09054611261185073, -0.09695350801188071, -0.10061259849562344, -0.10883888217145639, -0.1115597133321878, -0.12038758750685882, -0.11257012493734896, -0.11424241422291269, -0.11519744098121165, -0.10986374594964536, -0.10685898015614427, -0.10546934751241029, -0.10038880948134142, -0.09539567593667324, -0.09228635815941279, -0.0887888366592638, -0.08874110207461489, -0.0880235437439255, -0.08792765022683899, -0.09280050964349414, -0.08874110207461489, -0.08826305146417648, -0.08997807314669364, -0.0928938350649871, -0.09799989551749856, -0.09863393208826583, -0.09994042141168247, -0.10772234653096495, -0.10909561565281391, -0.1124861270688153, -0.11844225132399154, -0.12247333151541889, -0.12902532425299879, -0.12960327414557768, -0.10483687210198497, -0.10939468766694524, -0.10267588108387878, -0.1025799673024383, -0.10097411254502642, -0.09520822409588356, -0.09249243115056453, -0.08641146189061025, -0.09045414326214922, -0.08935753016218365, -0.09350301745317507, -0.09732583190375807, -0.10116754654651457, -0.10267588108387878, -0.10328219684052269, -0.10741022397525364, -0.10750371043375392, -0.10597095507006257, -0.10039260160870384, -0.10299523924618324, -0.10213171821152436, -0.09870237824679305, -0.10171452196796173, -0.10299523924618324, -0.10540476606108407, -0.11181609928954041, -0.11444777669735388, -0.11615267372675211, -0.1149278675025207, -0.11053258893138206, -0.1060023602810309, -0.10126418829064895, -0.094039705015097, -0.08763047456737379, -0.08511356902645721, -0.15146548414244157, -0.14253482153993424, -0.1393782275836324, -0.13454720686303326, -0.12622366314121553, -0.1277058931002702, -0.12351273898849235, -0.1217810251641039, -0.12444438691185877, -0.13393496558319995, -0.12847786322981375, -0.12601100009737734, -0.12083655947974317, -0.12279305574316811, -0.12579810640543596, -0.11552091432323577, -0.10442717607560491, -0.10138795446265207, -0.0946551079685052, -0.09144903179512663, -0.0831731744934624, -0.07597829991684121, -0.077644598530248, -0.07911208388108888, -0.08227893676820783, -0.07828818545634786, -0.08074804086830871, -0.08757701734770053, -0.09255224283360096, -0.09515620132156295, -0.10434782433969168, -0.12824343073758146, -0.13525394699452165, -0.12960735037924714, -0.12873162985530295, -0.12208671438360431, -0.12016052043733164, -0.1244929532545714, -0.12794992900504212, -0.12117667882795016, -0.1263771452489539, -0.12863408682584773, -0.1344976890816451, -0.13506515303702174, -0.14329735282252012, -0.14129394272794715, -0.1435689884681941, -0.13316724641655364, -0.13563099608018908, -0.1330718715963819, -0.12419378680371948, -0.10676752084864123, -0.08925546555563103, -0.08277134553767466, -0.07009572789604948, -0.06847459966748996, -0.05470843769157366, -0.046437691505444224, -0.04706800599666039, -0.04078568248483144, -0.03962360373754749, -0.028587352723283076, -0.019249251195697738, -0.01862851153178552, -0.015439785297764295, -0.013672819614627211, -0.006710929723820921, -0.005918208726813933, -0.003098885390086521, -0.002487551319990621, -0.0021728312506527903, -0.002795972080924838, -0.0004408764337260739, 0.0, 0.0, -0.0004408764337260739, 0.0, 0.0, 0.0, -0.0008208329183785018, 0.0, -0.0004408764337260739, -0.0004408764337260739, 0.0, 0.0, 0.0, 0.0, 0.0, 0.0, 0.0, 0.0, 0.0, 0.0]\n"
          ],
          "name": "stdout"
        }
      ]
    },
    {
      "cell_type": "code",
      "metadata": {
        "id": "XRfPf06SlbNU",
        "colab_type": "code",
        "colab": {
          "base_uri": "https://localhost:8080/",
          "height": 34
        },
        "outputId": "b19a54b4-1752-4934-fe8e-395671f51e13"
      },
      "source": [
        "kapur_entropy=[]\n",
        "for i in range(len(thresholds)-1):\n",
        "    kapur_entropy.append(-(sum(mul[thresholds[i]:thresholds[i+1]])))\n",
        "    \n",
        "print(kapur_entropy)"
      ],
      "execution_count": 26,
      "outputs": [
        {
          "output_type": "stream",
          "text": [
            "[3.345581228038181, 3.4240211096788977, 3.5127515230735953, 3.5494884424851736, 3.3937417883559053, 3.3838359314144015]\n"
          ],
          "name": "stdout"
        }
      ]
    },
    {
      "cell_type": "markdown",
      "metadata": {
        "id": "v2iXJrdKllN6",
        "colab_type": "text"
      },
      "source": [
        "OBJECTIVE FUNCTION CALCULATION"
      ]
    },
    {
      "cell_type": "code",
      "metadata": {
        "id": "NO1BigVhlmBZ",
        "colab_type": "code",
        "colab": {
          "base_uri": "https://localhost:8080/",
          "height": 34
        },
        "outputId": "e9604c2a-8e93-40ee-91e4-52b9f78a8ec0"
      },
      "source": [
        "J=sum(kapur_entropy)\n",
        "print(J)"
      ],
      "execution_count": 28,
      "outputs": [
        {
          "output_type": "stream",
          "text": [
            "20.609420023046155\n"
          ],
          "name": "stdout"
        }
      ]
    },
    {
      "cell_type": "code",
      "metadata": {
        "id": "9eHkT4j3l9dh",
        "colab_type": "code",
        "colab": {}
      },
      "source": [
        ""
      ],
      "execution_count": 0,
      "outputs": []
    }
  ]
}
